{
  "cells": [
    {
      "cell_type": "code",
      "source": [
        "# visualization.ipynb\n",
        "\n",
        "# Import libraries\n",
        "import pandas as pd\n",
        "import matplotlib.pyplot as plt\n",
        "import seaborn as sns\n",
        "import networkx as nx\n",
        "\n",
        "# Load data\n",
        "data_path = \"../data/ofi_data.csv\"\n",
        "df = pd.read_csv(data_path)\n",
        "\n",
        "# Correlation matrix\n",
        "corr = df[['ofi1', 'ofi2', 'ofi3', 'returns']].corr()\n",
        "\n",
        "# Visualize correlation matrix\n",
        "plt.figure(figsize=(8, 6))\n",
        "sns.heatmap(corr, annot=True, cmap=\"coolwarm\")\n",
        "plt.title(\"Correlation Matrix\")\n",
        "plt.show()\n",
        "\n",
        "# Visualize coefficients as a bar plot\n",
        "coefficients = {'Feature': ['ofi1', 'ofi2', 'ofi3'], 'Coefficient': [0.8, 0.3, -0.5]}  # Example coefficients\n",
        "coeff_df = pd.DataFrame(coefficients)\n",
        "\n",
        "plt.figure(figsize=(6, 4))\n",
        "sns.barplot(x='Feature', y='Coefficient', data=coeff_df, palette=\"viridis\")\n",
        "plt.title(\"Model Coefficients\")\n",
        "plt.show()\n",
        "\n",
        "# Cross-impact network\n",
        "network_data = {\n",
        "    \"source\": [\"AAPL\", \"GOOGL\", \"MSFT\"],\n",
        "    \"target\": [\"MSFT\", \"AAPL\", \"GOOGL\"],\n",
        "    \"weight\": [0.8, 0.6, 0.7]\n",
        "}\n",
        "network_df = pd.DataFrame(network_data)\n",
        "\n",
        "# Create graph\n",
        "G = nx.from_pandas_edgelist(network_df, source=\"source\", target=\"target\", edge_attr=\"weight\")\n",
        "\n",
        "plt.figure(figsize=(8, 6))\n",
        "nx.draw(G, with_labels=True, node_color=\"lightblue\", edge_color=\"gray\", node_size=1500, font_size=12)\n",
        "plt.title(\"Cross-Impact Network\")\n",
        "plt.show()\n"
      ],
      "metadata": {
        "id": "ftT2sylImXrE"
      },
      "id": "ftT2sylImXrE",
      "execution_count": null,
      "outputs": []
    }
  ],
  "metadata": {
    "kernelspec": {
      "display_name": "Python 3 (ipykernel)",
      "language": "python",
      "name": "python3"
    },
    "language_info": {
      "codemirror_mode": {
        "name": "ipython",
        "version": 3
      },
      "file_extension": ".py",
      "mimetype": "text/x-python",
      "name": "python",
      "nbconvert_exporter": "python",
      "pygments_lexer": "ipython3",
      "version": "3.11.7"
    },
    "colab": {
      "provenance": []
    }
  },
  "nbformat": 4,
  "nbformat_minor": 5
}