{
  "cells": [
    {
      "cell_type": "code",
      "source": [
        "# analysis.ipynb\n",
        "\n",
        "# Import libraries\n",
        "import pandas as pd\n",
        "import numpy as np\n",
        "from sklearn.linear_model import LassoCV\n",
        "from sklearn.model_selection import train_test_split\n",
        "from sklearn.metrics import mean_squared_error\n",
        "\n",
        "# Load data\n",
        "data_path = \"../data/ofi_data.csv\"\n",
        "df = pd.read_csv(data_path)\n",
        "\n",
        "# Data exploration\n",
        "print(\"Data Head:\")\n",
        "display(df.head())\n",
        "\n",
        "# Summary statistics\n",
        "print(\"\\nSummary Statistics:\")\n",
        "display(df.describe())\n",
        "\n",
        "# Split data into train/test\n",
        "X = df[['ofi1', 'ofi2', 'ofi3']]  # Replace with actual OFI features\n",
        "y = df['returns']\n",
        "X_train, X_test, y_train, y_test = train_test_split(X, y, test_size=0.2, random_state=42)\n",
        "\n",
        "# Cross-impact modeling\n",
        "model = LassoCV(cv=5).fit(X_train, y_train)\n",
        "y_pred = model.predict(X_test)\n",
        "\n",
        "# Evaluate model\n",
        "mse = mean_squared_error(y_test, y_pred)\n",
        "print(f\"Mean Squared Error: {mse}\")\n",
        "\n",
        "# Display model coefficients\n",
        "coefficients = pd.DataFrame({'Feature': X.columns, 'Coefficient': model.coef_})\n",
        "print(\"\\nModel Coefficients:\")\n",
        "display(coefficients)"
      ],
      "metadata": {
        "id": "-xxnSKYacJI6"
      },
      "id": "-xxnSKYacJI6",
      "execution_count": null,
      "outputs": []
    }
  ],
  "metadata": {
    "kernelspec": {
      "display_name": "Python 3 (ipykernel)",
      "language": "python",
      "name": "python3"
    },
    "language_info": {
      "codemirror_mode": {
        "name": "ipython",
        "version": 3
      },
      "file_extension": ".py",
      "mimetype": "text/x-python",
      "name": "python",
      "nbconvert_exporter": "python",
      "pygments_lexer": "ipython3",
      "version": "3.11.7"
    },
    "colab": {
      "provenance": []
    }
  },
  "nbformat": 4,
  "nbformat_minor": 5
}